{
 "cells": [
  {
   "cell_type": "code",
   "execution_count": 17,
   "metadata": {
    "collapsed": false
   },
   "outputs": [
    {
     "name": "stdout",
     "output_type": "stream",
     "text": [
      "float64\n",
      "float64\n"
     ]
    }
   ],
   "source": [
    "#!/usr/bin/env/python\n",
    "\n",
    "import os,re\n",
    "import numpy as np\n",
    "import h5py\n",
    "\n",
    "from attrdict import AttrMap\n",
    "\n",
    "import matplotlib as mpl\n",
    "import matplotlib.cm as cm\n",
    "import matplotlib.pyplot as plt\n",
    "import matplotlib.colors as colors\n",
    "\n",
    "\n",
    "import scipy as scp\n",
    "\n",
    "import skimage.exposure as exposure\n",
    "from skimage.io import imread\n",
    "from skimage.filters import *\n",
    "from skimage.morphology import *\n",
    "from skimage import data\n",
    "from skimage import img_as_float, img_as_bool\n",
    "from skimage.morphology import disk\n",
    "from skimage import measure\n",
    "\n",
    "\n",
    "images = ['images/image000.png', 'images/image001.png']\n",
    "\n",
    "\n",
    "for idx,path in enumerate(images):\n",
    "    \n",
    "    image = img_as_float(imread(path))\n",
    "    # bounds represent orthonormal standart canonical coordinate system \n",
    "    #  | y\n",
    "    #  |\n",
    "    # -----------> x\n",
    "    # bounds = [ x_min, x_max, y_min, y_max ]\n",
    "\n",
    "    bounds = np.array([ 0.0 , image.shape[1] , 0.0 , image.shape[0] ] , dtype=np.float64)\n",
    "\n",
    "    mask = np.ones(image.shape,np.uint8)\n",
    "    time = idx * 1.0 # 1 second between images -> no scaling\n",
    "    \n",
    "\n",
    "    h5File = h5py.File('images/image%03i.h5'%idx, 'w')\n",
    "    try:\n",
    "        dataset = h5File.create_dataset(\"bounds\", data=bounds)\n",
    "        dataset = h5File.create_dataset(\"data\", data=np.flipud(image))\n",
    "        dataset = h5File.create_dataset(\"mask\", data=np.flipud(mask))\n",
    "        dataset = h5File.create_dataset(\"time\", data=np.array(time,dtype=np.float64))\n",
    "        dataset = h5File.create_dataset(\"finalMask\", data=np.flipud(mask))\n",
    "        h5File.close() \n",
    "    except:\n",
    "        h5File.close()\n",
    "        raise NameError(\"error\")\n"
   ]
  }
 ],
 "metadata": {
  "kernelspec": {
   "display_name": "Python 3",
   "language": "python",
   "name": "python3"
  },
  "language_info": {
   "codemirror_mode": {
    "name": "ipython",
    "version": 3
   },
   "file_extension": ".py",
   "mimetype": "text/x-python",
   "name": "python",
   "nbconvert_exporter": "python",
   "pygments_lexer": "ipython3",
   "version": "3.4.3"
  }
 },
 "nbformat": 4,
 "nbformat_minor": 0
}
